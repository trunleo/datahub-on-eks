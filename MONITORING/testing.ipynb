{
 "cells": [
  {
   "cell_type": "code",
   "execution_count": 5,
   "metadata": {},
   "outputs": [],
   "source": [
    "import pytz\n",
    "import re\n",
    "import urllib\n",
    "import pytz\n",
    "import re\n",
    "import json\n",
    "import datetime\n",
    "import requests\n",
    "import logging\n"
   ]
  },
  {
   "cell_type": "code",
   "execution_count": 2,
   "metadata": {},
   "outputs": [],
   "source": [
    "event_load = \"\"\"{\n",
    "    \"AlarmName\": \"cab-prd-digitalbanking-rds-CPUUtilization-test-email\",\n",
    "    \"AlarmDescription\": null,\n",
    "    \"AWSAccountId\": \"984739340995\",\n",
    "    \"AlarmConfigurationUpdatedTimestamp\": \"2024-03-20T07:01:35.846+0000\",\n",
    "    \"NewStateValue\": \"ALARM\",\n",
    "    \"NewStateReason\": \"Testing the Amazon Cloudwatch alarm\",\n",
    "    \"StateChangeTime\": \"2024-03-20T07:01:50.985+0000\",\n",
    "    \"Region\": \"Asia Pacific (Singapore)\",\n",
    "    \"AlarmArn\": \"arn:aws:cloudwatch:ap-southeast-1:984739340995:alarm:cab-prd-digitalbanking-rds-CPUUtilization-test-email\",\n",
    "    \"OldStateValue\": \"OK\",\n",
    "    \"OKActions\": [],\n",
    "    \"AlarmActions\": [\n",
    "        \"arn:aws:sns:ap-southeast-1:984739340995:cab-prd-lambda-trigger-sns\"\n",
    "    ],\n",
    "    \"InsufficientDataActions\": [],\n",
    "    \"Trigger\": {\n",
    "        \"MetricName\": \"CPUUtilization\",\n",
    "        \"Namespace\": \"AWS/RDS\",\n",
    "        \"StatisticType\": \"Statistic\",\n",
    "        \"Statistic\": \"AVERAGE\",\n",
    "        \"Unit\": null,\n",
    "        \"Dimensions\": [\n",
    "            {\n",
    "                \"value\": \"cab-prod-digital-db\",\n",
    "                \"name\": \"DBInstanceIdentifier\"\n",
    "            }\n",
    "        ],\n",
    "        \"Period\": 60,\n",
    "        \"EvaluationPeriods\": 1,\n",
    "        \"DatapointsToAlarm\": 1,\n",
    "        \"ComparisonOperator\": \"GreaterThanOrEqualToThreshold\",\n",
    "        \"Threshold\": 80,\n",
    "        \"TreatMissingData\": \"missing\",\n",
    "        \"EvaluateLowSampleCountPercentile\": \"\"\n",
    "    }\n",
    "}\n",
    "\"\"\"\n"
   ]
  },
  {
   "cell_type": "code",
   "execution_count": 6,
   "metadata": {},
   "outputs": [],
   "source": [
    "TimeZoneCode = \"Asia/Phnom_Penh\"\n",
    "TimezoneInitial = \"UTC+7\""
   ]
  },
  {
   "cell_type": "code",
   "execution_count": 12,
   "metadata": {},
   "outputs": [],
   "source": [
    "\n",
    "def changeAlarmToLocalTimeZone(event,timezoneCode,localTimezoneInitial):\n",
    "    tz = pytz.timezone(timezoneCode)\n",
    "    #exclude the Alarm event from the SNS records\n",
    "    AlarmEvent = json.loads(event)\n",
    "\n",
    "    #extract event data like alarm name, region, state, timestamp\n",
    "    alarmName=AlarmEvent['AlarmName']\n",
    "    descriptionexist=0\n",
    "    if (\"AlarmDescription\" in AlarmEvent) and (AlarmEvent['AlarmDescription'] != None):\n",
    "        description= AlarmEvent['AlarmDescription']\n",
    "        descriptionexist=1\n",
    "    reason=AlarmEvent['NewStateReason']\n",
    "    region=AlarmEvent['Region']\n",
    "    state=AlarmEvent['NewStateValue']\n",
    "    previousState=AlarmEvent['OldStateValue']\n",
    "    timestamp=AlarmEvent['StateChangeTime']\n",
    "    alarmARN=AlarmEvent['AlarmArn']\n",
    "    RegionID=alarmARN.split(\":\")[3]\n",
    "    AccountID=AlarmEvent['AWSAccountId']\n",
    "\n",
    "    #get the datapoints substring\n",
    "    pattern = re.compile('\\[(.*?)\\]')\n",
    "    \n",
    "    #test if pattern match and there is datapoints\n",
    "    if pattern.search(reason):\n",
    "        Tempstr = pattern.findall(reason)[0]\n",
    "\n",
    "        #get in the message all datapoints timestamps and convert to localTimezone using same format\n",
    "        pattern = re.compile('\\(.*?\\)')\n",
    "        m = pattern.finditer(Tempstr)\n",
    "        for match in m:\n",
    "            Tempstr=match.group()\n",
    "            tempStamp = datetime.datetime.strptime(Tempstr, \"(%d/%m/%y %H:%M:%S)\")\n",
    "            tempStamp = tempStamp.astimezone(tz)\n",
    "            tempStamp = tempStamp.strftime('%d/%m/%y %H:%M:%S')\n",
    "            reason=reason.replace(Tempstr, '('+tempStamp+')')\n",
    "    \n",
    "\n",
    "    #convert timestamp to localTimezone time\n",
    "    timestamp = timestamp.split(\".\")[0]\n",
    "    timestamp = datetime.datetime.strptime(timestamp, \"%Y-%m-%dT%H:%M:%S\")\n",
    "    localTimeStamp = timestamp.astimezone(tz)\n",
    "    localTimeStamp = localTimeStamp.strftime(\"%A %B, %Y %H:%M:%S\")\n",
    "\n",
    "    #create Custom message and change timestamps\n",
    "\n",
    "    customMessage='You are receiving this email because your Amazon CloudWatch Alarm \"'+alarmName+'\" in the '+region+' region has entered the '+state+' state, at \"'+localTimeStamp+' '+localTimezoneInitial +'.'\n",
    "    \n",
    "    # Add Console link\n",
    "    customMessage=customMessage+'\\n\\n View this alarm in the AWS Management Console: \\n'+ 'https://'+RegionID+'.console.aws.amazon.com/cloudwatch/home?region='+RegionID+'#s=Alarms&alarm='+urllib.parse.quote(alarmName)\n",
    "    \n",
    "    #Add Alarm Name\n",
    "    customMessage=customMessage+'\\n\\n Alarm Details:\\n- Name:\\t\\t\\t\\t\\t\\t'+alarmName\n",
    "    \n",
    "    # Add alarm description if exist\n",
    "    if (descriptionexist == 1) : customMessage=customMessage+'\\n- Description:\\t\\t\\t\\t\\t'+description\n",
    "    \n",
    "    customMessage=customMessage+'\\n- State Change:\\t\\t\\t\\t'+previousState+' -> '+state\n",
    "\n",
    "    # Add alarm reason for changes\n",
    "    customMessage=customMessage+'\\n- Reason for State Change:\\t\\t'+reason\n",
    " \n",
    "    # Add alarm evaluation timeStamp   \n",
    "    customMessage=customMessage+'\\n- Timestamp:\\t\\t\\t\\t\\t'+localTimeStamp+' '+localTimezoneInitial\n",
    "\n",
    "    # Add AccountID    \n",
    "    customMessage=customMessage+'\\n- AWS Account: \\t\\t\\t\\t'+AccountID\n",
    "    \n",
    "    # Add Alarm ARN\n",
    "    customMessage=customMessage+'\\n- Alarm Arn:\\t\\t\\t\\t\\t'+alarmARN + '\\U0001F973 This is a Robot face!\\n'\n",
    "    return customMessage"
   ]
  },
  {
   "cell_type": "code",
   "execution_count": 13,
   "metadata": {},
   "outputs": [
    {
     "name": "stdout",
     "output_type": "stream",
     "text": [
      "You are receiving this email because your Amazon CloudWatch Alarm \"cab-prd-digitalbanking-rds-CPUUtilization-test-email\" in the Asia Pacific (Singapore) region has entered the ALARM state, at \"Wednesday March, 2024 07:01:50 UTC+7.\n",
      "\n",
      " View this alarm in the AWS Management Console: \n",
      "https://ap-southeast-1.console.aws.amazon.com/cloudwatch/home?region=ap-southeast-1#s=Alarms&alarm=cab-prd-digitalbanking-rds-CPUUtilization-test-email\n",
      "\n",
      " Alarm Details:\n",
      "- Name:\t\t\t\t\t\tcab-prd-digitalbanking-rds-CPUUtilization-test-email\n",
      "- State Change:\t\t\t\tOK -> ALARM\n",
      "- Reason for State Change:\t\tTesting the Amazon Cloudwatch alarm\n",
      "- Timestamp:\t\t\t\t\tWednesday March, 2024 07:01:50 UTC+7\n",
      "- AWS Account: \t\t\t\t984739340995\n",
      "- Alarm Arn:\t\t\t\t\tarn:aws:cloudwatch:ap-southeast-1:984739340995:alarm:cab-prd-digitalbanking-rds-CPUUtilization-test-email🥳 This is a Robot face!\n",
      "\n"
     ]
    }
   ],
   "source": [
    "message = changeAlarmToLocalTimeZone(event_load,TimeZoneCode,TimezoneInitial)\n",
    "print(message)"
   ]
  },
  {
   "cell_type": "code",
   "execution_count": 3,
   "metadata": {},
   "outputs": [],
   "source": [
    "# message = changeAlarmToLocalTimeZone(event_load,TimeZoneCode,TimezoneInitial)\n",
    "TOKEN = \"6763568873:AAF3L14zcl-_BPMrWxyZtGi5WA1zR1aks6Y\"\n",
    "USER_ID = \"-4107871073\"\n",
    "TELEGRAM_URL = \"https://api.telegram.org/bot{}/sendMessage\".format(TOKEN)"
   ]
  },
  {
   "cell_type": "code",
   "execution_count": 4,
   "metadata": {},
   "outputs": [],
   "source": [
    "def process_message(input):\n",
    "    try:\n",
    "        # Loading JSON into a string\n",
    "        raw_json = json.loads(input)\n",
    "        # Outputing as JSON with indents\n",
    "        output = json.dumps(raw_json, indent=4)\n",
    "    except:\n",
    "        output = input\n",
    "    return output"
   ]
  },
  {
   "cell_type": "code",
   "execution_count": 10,
   "metadata": {},
   "outputs": [
    {
     "name": "stdout",
     "output_type": "stream",
     "text": [
      "\"{\\n    \\\"AlarmName\\\": \\\"cab-prd-digitalbanking-rds-CPUUtilization-test-email\\\",\\n    \\\"AlarmDescription\\\": null,\\n    \\\"AWSAccountId\\\": \\\"984739340995\\\",\\n    \\\"AlarmConfigurationUpdatedTimestamp\\\": \\\"2024-03-20T07:01:35.846+0000\\\",\\n    \\\"NewStateValue\\\": \\\"ALARM\\\",\\n    \\\"NewStateReason\\\": \\\"Testing the Amazon Cloudwatch alarm\\\",\\n    \\\"StateChangeTime\\\": \\\"2024-03-20T07:01:50.985+0000\\\",\\n    \\\"Region\\\": \\\"Asia Pacific (Singapore)\\\",\\n    \\\"AlarmArn\\\": \\\"arn:aws:cloudwatch:ap-southeast-1:984739340995:alarm:cab-prd-digitalbanking-rds-CPUUtilization-test-email\\\",\\n    \\\"OldStateValue\\\": \\\"OK\\\",\\n    \\\"OKActions\\\": [],\\n    \\\"AlarmActions\\\": [\\n        \\\"arn:aws:sns:ap-southeast-1:984739340995:cab-prd-lambda-trigger-sns\\\"\\n    ],\\n    \\\"InsufficientDataActions\\\": [],\\n    \\\"Trigger\\\": {\\n        \\\"MetricName\\\": \\\"CPUUtilization\\\",\\n        \\\"Namespace\\\": \\\"AWS/RDS\\\",\\n        \\\"StatisticType\\\": \\\"Statistic\\\",\\n        \\\"Statistic\\\": \\\"AVERAGE\\\",\\n        \\\"Unit\\\": null,\\n        \\\"Dimensions\\\": [\\n            {\\n                \\\"value\\\": \\\"cab-prod-digital-db\\\",\\n                \\\"name\\\": \\\"DBInstanceIdentifier\\\"\\n            }\\n        ],\\n        \\\"Period\\\": 60,\\n        \\\"EvaluationPeriods\\\": 1,\\n        \\\"DatapointsToAlarm\\\": 1,\\n        \\\"ComparisonOperator\\\": \\\"GreaterThanOrEqualToThreshold\\\",\\n        \\\"Threshold\\\": 80,\\n        \\\"TreatMissingData\\\": \\\"missing\\\",\\n        \\\"EvaluateLowSampleCountPercentile\\\": \\\"\\\"\\n    }\\n}\\n\"\n"
     ]
    }
   ],
   "source": [
    "testing = json.dumps(event_load)\n",
    "print(testing)"
   ]
  },
  {
   "cell_type": "code",
   "execution_count": 11,
   "metadata": {},
   "outputs": [
    {
     "name": "stdout",
     "output_type": "stream",
     "text": [
      "\"{\\n    \\\"AlarmName\\\": \\\"cab-prd-digitalbanking-rds-CPUUtilization-test-email\\\",\\n    \\\"AlarmDescription\\\": null,\\n    \\\"AWSAccountId\\\": \\\"984739340995\\\",\\n    \\\"AlarmConfigurationUpdatedTimestamp\\\": \\\"2024-03-20T07:01:35.846+0000\\\",\\n    \\\"NewStateValue\\\": \\\"ALARM\\\",\\n    \\\"NewStateReason\\\": \\\"Testing the Amazon Cloudwatch alarm\\\",\\n    \\\"StateChangeTime\\\": \\\"2024-03-20T07:01:50.985+0000\\\",\\n    \\\"Region\\\": \\\"Asia Pacific (Singapore)\\\",\\n    \\\"AlarmArn\\\": \\\"arn:aws:cloudwatch:ap-southeast-1:984739340995:alarm:cab-prd-digitalbanking-rds-CPUUtilization-test-email\\\",\\n    \\\"OldStateValue\\\": \\\"OK\\\",\\n    \\\"OKActions\\\": [],\\n    \\\"AlarmActions\\\": [\\n        \\\"arn:aws:sns:ap-southeast-1:984739340995:cab-prd-lambda-trigger-sns\\\"\\n    ],\\n    \\\"InsufficientDataActions\\\": [],\\n    \\\"Trigger\\\": {\\n        \\\"MetricName\\\": \\\"CPUUtilization\\\",\\n        \\\"Namespace\\\": \\\"AWS/RDS\\\",\\n        \\\"StatisticType\\\": \\\"Statistic\\\",\\n        \\\"Statistic\\\": \\\"AVERAGE\\\",\\n        \\\"Unit\\\": null,\\n        \\\"Dimensions\\\": [\\n            {\\n                \\\"value\\\": \\\"cab-prod-digital-db\\\",\\n                \\\"name\\\": \\\"DBInstanceIdentifier\\\"\\n            }\\n        ],\\n        \\\"Period\\\": 60,\\n        \\\"EvaluationPeriods\\\": 1,\\n        \\\"DatapointsToAlarm\\\": 1,\\n        \\\"ComparisonOperator\\\": \\\"GreaterThanOrEqualToThreshold\\\",\\n        \\\"Threshold\\\": 80,\\n        \\\"TreatMissingData\\\": \\\"missing\\\",\\n        \\\"EvaluateLowSampleCountPercentile\\\": \\\"\\\"\\n    }\\n}\\n\"\n"
     ]
    }
   ],
   "source": [
    "# def lambda_handler(event, context):\n",
    "    # logging the event for debugging\n",
    "testing = json.dumps(event_load)\n",
    "print(testing)\n",
    "# Basic exception handling. If anything goes wrong, logging the exception    \n",
    "try:\n",
    "    # Reading the message \"Message\" field from the SNS message\n",
    "    message = process_message(testing)\n",
    "\n",
    "    # Payload to be set via POST method to Telegram Bot API\n",
    "    payload = {\n",
    "        \"text\": message.encode(\"utf8\"),\n",
    "        \"chat_id\": USER_ID\n",
    "    }\n",
    "\n",
    "    # Posting the payload to Telegram Bot API\n",
    "    requests.post(TELEGRAM_URL, payload)\n",
    "\n",
    "except Exception as e:\n",
    "    raise e"
   ]
  },
  {
   "cell_type": "code",
   "execution_count": 51,
   "metadata": {},
   "outputs": [],
   "source": [
    "payload = {\n",
    "            \"text\": message,\n",
    "            \"chat_id\": USER_ID\n",
    "        }"
   ]
  },
  {
   "cell_type": "code",
   "execution_count": 52,
   "metadata": {},
   "outputs": [
    {
     "data": {
      "text/plain": [
       "<Response [200]>"
      ]
     },
     "execution_count": 52,
     "metadata": {},
     "output_type": "execute_result"
    }
   ],
   "source": [
    "requests.post(TELEGRAM_URL, payload)"
   ]
  },
  {
   "cell_type": "code",
   "execution_count": null,
   "metadata": {},
   "outputs": [],
   "source": []
  }
 ],
 "metadata": {
  "kernelspec": {
   "display_name": "Python 3",
   "language": "python",
   "name": "python3"
  },
  "language_info": {
   "codemirror_mode": {
    "name": "ipython",
    "version": 3
   },
   "file_extension": ".py",
   "mimetype": "text/x-python",
   "name": "python",
   "nbconvert_exporter": "python",
   "pygments_lexer": "ipython3",
   "version": "3.9.6"
  }
 },
 "nbformat": 4,
 "nbformat_minor": 2
}
